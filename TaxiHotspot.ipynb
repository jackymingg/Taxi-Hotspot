{
 "cells": [
  {
   "cell_type": "markdown",
   "metadata": {
    "id": "lImNRSPwyJCu"
   },
   "source": [
    "<table width=\"100%\" border=\"3\">\n",
    "  <tbody>\n",
    "    <tr>\n",
    "      <td ><img src=\"https://aidea-web.tw/images/web/logo_white.png\" alt=\"Aidea\" width=\"400\"/></td>\n",
    "      <td align='left'><h1>Exercise 3:Prediction with holidays</h1></td>\n",
    "    </tr>\n",
    "  </tbody>\n",
    "</table>\n",
    "Taxi Hotspot Prediction with holidays"
   ]
  },
  {
   "cell_type": "code",
   "execution_count": 1,
   "metadata": {
    "id": "TKnUjDZ06lMs"
   },
   "outputs": [
    {
     "name": "stdout",
     "output_type": "stream",
     "text": [
      "Downloading 13BhHdMYUP7VxYV1PNoQGx-wldEMebjyd into ./content... Done.\n",
      "Unzipping...Done.\n"
     ]
    }
   ],
   "source": [
    "from google_drive_downloader import GoogleDriveDownloader\n",
    "GoogleDriveDownloader.download_file_from_google_drive(file_id='13BhHdMYUP7VxYV1PNoQGx-wldEMebjyd',dest_path='./content', unzip=True)"
   ]
  },
  {
   "cell_type": "code",
   "execution_count": 2,
   "metadata": {
    "id": "CksAR-5COkjN"
   },
   "outputs": [],
   "source": [
    "import numpy as np\n",
    "import pandas as pd\n",
    "import matplotlib.pyplot as plt\n",
    "%matplotlib inline"
   ]
  },
  {
   "cell_type": "code",
   "execution_count": 3,
   "metadata": {
    "id": "mkWhBwQTOkjT"
   },
   "outputs": [
    {
     "data": {
      "text/plain": [
       "(219600, 4)"
      ]
     },
     "execution_count": 3,
     "metadata": {},
     "output_type": "execute_result"
    }
   ],
   "source": [
    "#Read training data\n",
    "df_train = pd.read_csv('taxi_data/train_hire_stats.csv')\n",
    "df_train.shape"
   ]
  },
  {
   "cell_type": "code",
   "execution_count": 4,
   "metadata": {
    "id": "zAT1IaBJOkjW"
   },
   "outputs": [],
   "source": [
    "#Check weekday & workday\n",
    "#holidays連假的平常日\n",
    "#workdays連假的補班日\n",
    "holidays=set(['2016-02-08', '2016-02-09', '2016-02-10', '2016-02-11', '2016-02-12','2016-02-29', '2016-04-04', '2016-04-05', '2016-06-09', '2016-06-10', \n",
    "'2016-09-15', '2016-09-16', '2016-10-10', '2017-01-02', '2017-01-27', '2017-01-30', '2017-02-01','2017-02-27', '2017-02-28'])\n",
    "makeupworkdays = set(['2016-06-04', '2016-09-10', '2017-02-18'])"
   ]
  },
  {
   "cell_type": "code",
   "execution_count": 5,
   "metadata": {
    "id": "hr0reIR4OkjY"
   },
   "outputs": [],
   "source": [
    "#Declare weekday & workday\n",
    "isworkday = np.ones((len(df_train),), dtype=int)\n",
    "weekday = np.ones((len(df_train),), dtype=int)"
   ]
  },
  {
   "cell_type": "code",
   "execution_count": 6,
   "metadata": {
    "id": "ZyQABOCZOkja"
   },
   "outputs": [],
   "source": [
    "#Compute weekday & workday\n",
    "#weekday()\n",
    "#0 == Monday, #1 == Tuesday, #2 == Wednesday,  #3 == Thursday,  #4 == Friday,  #5 == Saturday, #6 == Sunday\n",
    "from datetime import datetime\n",
    "\n",
    "for index, row in df_train.iterrows():\n",
    "    if row['Date'] in holidays:\n",
    "        isworkday[index] = 0\n",
    "    else:\n",
    "        dd=datetime.strptime(row['Date'], \"%Y-%m-%d\")\n",
    "        weekday[index]= dd.weekday() \n",
    "        if weekday[index] >=5 and row['Date'] not in makeupworkdays:\n",
    "            isworkday[index] = 0\n"
   ]
  },
  {
   "cell_type": "code",
   "execution_count": 7,
   "metadata": {
    "id": "zq7ckqnbOkjd"
   },
   "outputs": [],
   "source": [
    "#Build a new dataframe from the training data\n",
    "RawX = pd.DataFrame(df_train[[\"Zone_ID\", \"Hour_slot\"]])\n",
    "RawX['isworkday'] = isworkday\n",
    "RawX['weekday'] = weekday"
   ]
  },
  {
   "cell_type": "code",
   "execution_count": 8,
   "metadata": {
    "id": "W0_qIeKsOkjf"
   },
   "outputs": [
    {
     "data": {
      "text/html": [
       "<div>\n",
       "<style scoped>\n",
       "    .dataframe tbody tr th:only-of-type {\n",
       "        vertical-align: middle;\n",
       "    }\n",
       "\n",
       "    .dataframe tbody tr th {\n",
       "        vertical-align: top;\n",
       "    }\n",
       "\n",
       "    .dataframe thead th {\n",
       "        text-align: right;\n",
       "    }\n",
       "</style>\n",
       "<table border=\"1\" class=\"dataframe\">\n",
       "  <thead>\n",
       "    <tr style=\"text-align: right;\">\n",
       "      <th></th>\n",
       "      <th>Zone_ID</th>\n",
       "      <th>Hour_slot</th>\n",
       "      <th>isworkday</th>\n",
       "      <th>weekday</th>\n",
       "    </tr>\n",
       "  </thead>\n",
       "  <tbody>\n",
       "    <tr>\n",
       "      <th>0</th>\n",
       "      <td>1</td>\n",
       "      <td>0</td>\n",
       "      <td>1</td>\n",
       "      <td>0</td>\n",
       "    </tr>\n",
       "    <tr>\n",
       "      <th>1</th>\n",
       "      <td>1</td>\n",
       "      <td>1</td>\n",
       "      <td>1</td>\n",
       "      <td>0</td>\n",
       "    </tr>\n",
       "    <tr>\n",
       "      <th>2</th>\n",
       "      <td>1</td>\n",
       "      <td>2</td>\n",
       "      <td>1</td>\n",
       "      <td>0</td>\n",
       "    </tr>\n",
       "    <tr>\n",
       "      <th>3</th>\n",
       "      <td>1</td>\n",
       "      <td>3</td>\n",
       "      <td>1</td>\n",
       "      <td>0</td>\n",
       "    </tr>\n",
       "    <tr>\n",
       "      <th>4</th>\n",
       "      <td>1</td>\n",
       "      <td>4</td>\n",
       "      <td>1</td>\n",
       "      <td>0</td>\n",
       "    </tr>\n",
       "  </tbody>\n",
       "</table>\n",
       "</div>"
      ],
      "text/plain": [
       "   Zone_ID  Hour_slot  isworkday  weekday\n",
       "0        1          0          1        0\n",
       "1        1          1          1        0\n",
       "2        1          2          1        0\n",
       "3        1          3          1        0\n",
       "4        1          4          1        0"
      ]
     },
     "execution_count": 8,
     "metadata": {},
     "output_type": "execute_result"
    }
   ],
   "source": [
    "#See the raw input data\n",
    "RawX.head()"
   ]
  },
  {
   "cell_type": "code",
   "execution_count": 9,
   "metadata": {
    "id": "n7m8bb1TOkjj"
   },
   "outputs": [],
   "source": [
    "#Use OneHotEncoder\n",
    "from sklearn.preprocessing import OneHotEncoder\n",
    "enc = OneHotEncoder(handle_unknown='ignore')"
   ]
  },
  {
   "cell_type": "code",
   "execution_count": 10,
   "metadata": {
    "id": "lfO5O6tqOkjm"
   },
   "outputs": [
    {
     "data": {
      "text/plain": [
       "[array([ 1,  2,  3,  4,  5,  6,  7,  8,  9, 10, 11, 12, 13, 14, 15, 16, 17,\n",
       "        18, 19, 20, 21, 22, 23, 24, 25], dtype=int64),\n",
       " array([ 0,  1,  2,  3,  4,  5,  6,  7,  8,  9, 10, 11, 12, 13, 14, 15, 16,\n",
       "        17, 18, 19, 20, 21, 22, 23], dtype=int64),\n",
       " array([0, 1]),\n",
       " array([0, 1, 2, 3, 4, 5, 6])]"
      ]
     },
     "execution_count": 10,
     "metadata": {},
     "output_type": "execute_result"
    }
   ],
   "source": [
    "#Build encoder\n",
    "enc.fit_transform(RawX)\n",
    "enc.categories_"
   ]
  },
  {
   "cell_type": "code",
   "execution_count": 11,
   "metadata": {
    "id": "CKeJBxx_Okjs"
   },
   "outputs": [
    {
     "data": {
      "text/plain": [
       "(219600, 58)"
      ]
     },
     "execution_count": 11,
     "metadata": {},
     "output_type": "execute_result"
    }
   ],
   "source": [
    "#Transform data into one hot vector\n",
    "X = enc.transform(RawX).toarray()\n",
    "X.shape"
   ]
  },
  {
   "cell_type": "code",
   "execution_count": 12,
   "metadata": {
    "id": "AdYCTe4DOkju"
   },
   "outputs": [
    {
     "data": {
      "text/plain": [
       "array([[1., 0., 0., 0., 0., 0., 0., 0., 0., 0., 0., 0., 0., 0., 0., 0.,\n",
       "        0., 0., 0., 0., 0., 0., 0., 0., 0., 1., 0., 0., 0., 0., 0., 0.,\n",
       "        0., 0., 0., 0., 0., 0., 0., 0., 0., 0., 0., 0., 0., 0., 0., 0.,\n",
       "        0., 0., 1., 1., 0., 0., 0., 0., 0., 0.],\n",
       "       [1., 0., 0., 0., 0., 0., 0., 0., 0., 0., 0., 0., 0., 0., 0., 0.,\n",
       "        0., 0., 0., 0., 0., 0., 0., 0., 0., 0., 1., 0., 0., 0., 0., 0.,\n",
       "        0., 0., 0., 0., 0., 0., 0., 0., 0., 0., 0., 0., 0., 0., 0., 0.,\n",
       "        0., 0., 1., 1., 0., 0., 0., 0., 0., 0.],\n",
       "       [1., 0., 0., 0., 0., 0., 0., 0., 0., 0., 0., 0., 0., 0., 0., 0.,\n",
       "        0., 0., 0., 0., 0., 0., 0., 0., 0., 0., 0., 1., 0., 0., 0., 0.,\n",
       "        0., 0., 0., 0., 0., 0., 0., 0., 0., 0., 0., 0., 0., 0., 0., 0.,\n",
       "        0., 0., 1., 1., 0., 0., 0., 0., 0., 0.]])"
      ]
     },
     "execution_count": 12,
     "metadata": {},
     "output_type": "execute_result"
    }
   ],
   "source": [
    "#See the cooked input data\n",
    "X[0:3, :]"
   ]
  },
  {
   "cell_type": "code",
   "execution_count": 13,
   "metadata": {
    "id": "FhY42SltOkjy"
   },
   "outputs": [
    {
     "data": {
      "text/plain": [
       "(219600,)"
      ]
     },
     "execution_count": 13,
     "metadata": {},
     "output_type": "execute_result"
    }
   ],
   "source": [
    "#Resize y into (0,1)\n",
    "y = df_train[\"Hire_count\"].values/339.0\n",
    "y.shape"
   ]
  },
  {
   "cell_type": "code",
   "execution_count": 14,
   "metadata": {
    "id": "gqr7-fR0Okj2"
   },
   "outputs": [],
   "source": [
    "import tensorflow as tf\n",
    "from tensorflow import keras\n",
    "from tensorflow.keras.models import Sequential\n",
    "from tensorflow.keras.layers import Input, Dense, Activation, Dropout"
   ]
  },
  {
   "cell_type": "code",
   "execution_count": 15,
   "metadata": {
    "id": "XqN0FCDGOkj4"
   },
   "outputs": [],
   "source": [
    "# create and fit a Baseline Neural Network Model\n",
    "model = Sequential()\n",
    "model.add(Dense(128, activation='relu', input_dim=58))\n",
    "model.add(Dense(units=10, activation='relu'))\n",
    "model.add(Dropout(0.1))\n",
    "model.add(Dense(1))"
   ]
  },
  {
   "cell_type": "code",
   "execution_count": 16,
   "metadata": {
    "id": "x8Ohx3bEOkj7"
   },
   "outputs": [
    {
     "name": "stdout",
     "output_type": "stream",
     "text": [
      "Epoch 1/10\n",
      "215/215 [==============================] - 0s 2ms/step - loss: 0.0065\n",
      "Epoch 2/10\n",
      "215/215 [==============================] - 0s 2ms/step - loss: 0.0014\n",
      "Epoch 3/10\n",
      "215/215 [==============================] - 1s 2ms/step - loss: 0.0011\n",
      "Epoch 4/10\n",
      "215/215 [==============================] - 1s 3ms/step - loss: 0.0011\n",
      "Epoch 5/10\n",
      "215/215 [==============================] - 0s 2ms/step - loss: 0.0010\n",
      "Epoch 6/10\n",
      "215/215 [==============================] - 0s 2ms/step - loss: 0.0010\n",
      "Epoch 7/10\n",
      "215/215 [==============================] - 0s 2ms/step - loss: 0.0010\n",
      "Epoch 8/10\n",
      "215/215 [==============================] - 0s 2ms/step - loss: 0.0010\n",
      "Epoch 9/10\n",
      "215/215 [==============================] - 0s 2ms/step - loss: 9.9378e-04\n",
      "Epoch 10/10\n",
      "215/215 [==============================] - 0s 2ms/step - loss: 0.0010\n"
     ]
    },
    {
     "data": {
      "text/plain": [
       "<tensorflow.python.keras.callbacks.History at 0x278c36d3310>"
      ]
     },
     "execution_count": 16,
     "metadata": {},
     "output_type": "execute_result"
    }
   ],
   "source": [
    "model.compile(loss='mse', optimizer='adam')\n",
    "model.fit(X, y, epochs=10, batch_size=1024, verbose=1)"
   ]
  },
  {
   "cell_type": "code",
   "execution_count": 17,
   "metadata": {
    "id": "hRlfh4XHOkj_"
   },
   "outputs": [
    {
     "data": {
      "text/plain": [
       "(6048, 5)"
      ]
     },
     "execution_count": 17,
     "metadata": {},
     "output_type": "execute_result"
    }
   ],
   "source": [
    "df_test = pd.read_csv('taxi_data/test_hire_stats.csv')\n",
    "df_test.shape"
   ]
  },
  {
   "cell_type": "code",
   "execution_count": 18,
   "metadata": {
    "id": "yUcUzYacV-WC"
   },
   "outputs": [],
   "source": [
    "#Declare weekday & workday\n",
    "isworkday2 = np.ones((len(df_test),), dtype=int)\n",
    "weekday2 = np.ones((len(df_test),), dtype=int)"
   ]
  },
  {
   "cell_type": "code",
   "execution_count": 19,
   "metadata": {
    "id": "0L5yVWEtOkkB"
   },
   "outputs": [],
   "source": [
    "for index, row in df_test.iterrows():\n",
    "    if row['Date'] in holidays:\n",
    "        isworkday2[index] = 0\n",
    "    else:\n",
    "        dd=datetime.strptime(row['Date'], \"%Y-%m-%d\")\n",
    "        weekday2[index]= dd.weekday() \n",
    "        if weekday2[index] >=5 and row['Date'] not in makeupworkdays:\n",
    "            isworkday2[index] = 0"
   ]
  },
  {
   "cell_type": "code",
   "execution_count": 20,
   "metadata": {
    "id": "2FhTD600OkkE"
   },
   "outputs": [],
   "source": [
    "Test = pd.DataFrame(df_test[[\"Zone_ID\", \"Hour_slot\"]])\n",
    "Test['isworkday'] = isworkday2\n",
    "Test['weekday'] = weekday2"
   ]
  },
  {
   "cell_type": "code",
   "execution_count": 21,
   "metadata": {
    "id": "r--p7gqWOkkH"
   },
   "outputs": [
    {
     "data": {
      "text/plain": [
       "(6048, 58)"
      ]
     },
     "execution_count": 21,
     "metadata": {},
     "output_type": "execute_result"
    }
   ],
   "source": [
    "Xtest = enc.transform(Test).toarray()\n",
    "Xtest.shape"
   ]
  },
  {
   "cell_type": "code",
   "execution_count": 22,
   "metadata": {
    "id": "yVosG1IpOkkJ"
   },
   "outputs": [],
   "source": [
    "yt = model.predict(Xtest)*339.0"
   ]
  },
  {
   "cell_type": "code",
   "execution_count": 23,
   "metadata": {
    "id": "oQMuxcuUOkkN"
   },
   "outputs": [
    {
     "data": {
      "text/plain": [
       "[<matplotlib.lines.Line2D at 0x278a0f80220>]"
      ]
     },
     "execution_count": 23,
     "metadata": {},
     "output_type": "execute_result"
    },
    {
     "data": {
      "image/png": "[encoded data removed]",
      "text/plain": [
       "<Figure size 432x288 with 1 Axes>"
      ]
     },
     "metadata": {
      "needs_background": "light"
     },
     "output_type": "display_data"
    }
   ],
   "source": [
    "plt.plot(yt)"
   ]
  },
  {
   "cell_type": "code",
   "execution_count": 24,
   "metadata": {
    "id": "BNTgmnbSOkkU"
   },
   "outputs": [],
   "source": [
    "dfOut = pd.DataFrame(yt)"
   ]
  },
  {
   "cell_type": "code",
   "execution_count": 25,
   "metadata": {
    "id": "kOP3bd6zOkkX"
   },
   "outputs": [],
   "source": [
    "dfOut.to_csv('Result3.csv')"
   ]
  },
  {
   "cell_type": "code",
   "execution_count": null,
   "metadata": {},
   "outputs": [],
   "source": []
  }
 ],
 "metadata": {
  "colab": {
   "name": "TaxiHotspot3_Holidays.ipynb",
   "provenance": []
  },
  "kernelspec": {
   "display_name": "Python 3",
   "language": "python",
   "name": "python3"
  },
  "language_info": {
   "codemirror_mode": {
    "name": "ipython",
    "version": 3
   },
   "file_extension": ".py",
   "mimetype": "text/x-python",
   "name": "python",
   "nbconvert_exporter": "python",
   "pygments_lexer": "ipython3",
   "version": "3.8.5"
  }
 },
 "nbformat": 4,
 "nbformat_minor": 1
}
